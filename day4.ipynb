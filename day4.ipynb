{
  "nbformat": 4,
  "nbformat_minor": 0,
  "metadata": {
    "colab": {
      "name": "day4.ipynb",
      "provenance": [],
      "collapsed_sections": [],
      "mount_file_id": "1cjItEMJXgbzMcPSc0ZA_m59a6XQjptAg",
      "authorship_tag": "ABX9TyMCj5PmkKtFYbIN4ddT+D/u",
      "include_colab_link": true
    },
    "kernelspec": {
      "name": "python3",
      "display_name": "Python 3"
    },
    "accelerator": "GPU"
  },
  "cells": [
    {
      "cell_type": "markdown",
      "metadata": {
        "id": "view-in-github",
        "colab_type": "text"
      },
      "source": [
        "<a href=\"https://colab.research.google.com/github/paulinakaszuba94/dataworkshop_matrix3/blob/master/day4.ipynb\" target=\"_parent\"><img src=\"https://colab.research.google.com/assets/colab-badge.svg\" alt=\"Open In Colab\"/></a>"
      ]
    },
    {
      "cell_type": "code",
      "metadata": {
        "id": "SQKMUQSogJ5q",
        "colab_type": "code",
        "colab": {}
      },
      "source": [
        "import pandas as pd\n",
        "import numpy as np\n",
        "import matplotlib.pyplot as plt\n",
        "from skimage import color, exposure\n",
        "import os\n",
        "import datetime\n",
        "\n",
        "import tensorflow as tf\n",
        "from tensorflow.keras.models import Sequential\n",
        "from tensorflow.keras.layers import Conv2D, MaxPool2D, Dense, Flatten, Dropout\n",
        "from tensorflow.keras.utils import to_categorical\n",
        "from sklearn.metrics import accuracy_score\n",
        "\n",
        "%reload_ext tensorboard"
      ],
      "execution_count": 0,
      "outputs": []
    },
    {
      "cell_type": "code",
      "metadata": {
        "id": "C4K-Zdz4h20F",
        "colab_type": "code",
        "outputId": "78e74f56-28cf-4508-fa06-6f7ee1a13139",
        "colab": {
          "base_uri": "https://localhost:8080/",
          "height": 35
        }
      },
      "source": [
        "cd '/content/drive/My Drive/Colab Notebooks/dataworkshop_matrix/matrix3/dataworkshop_matrix3'"
      ],
      "execution_count": 2,
      "outputs": [
        {
          "output_type": "stream",
          "text": [
            "/content/drive/My Drive/Colab Notebooks/dataworkshop_matrix/matrix3/dataworkshop_matrix3\n"
          ],
          "name": "stdout"
        }
      ]
    },
    {
      "cell_type": "code",
      "metadata": {
        "id": "3Bc-IT30h-D_",
        "colab_type": "code",
        "outputId": "abcfadc8-9b60-482e-b4c8-463d0c4456d3",
        "colab": {
          "base_uri": "https://localhost:8080/",
          "height": 35
        }
      },
      "source": [
        "ls"
      ],
      "execution_count": 3,
      "outputs": [
        {
          "output_type": "stream",
          "text": [
            "\u001b[0m\u001b[01;34mdata\u001b[0m/  day1.ipynb  day2.ipynb  day3.ipynb  LICENSE  \u001b[01;34mlogs\u001b[0m/  README.md\n"
          ],
          "name": "stdout"
        }
      ]
    },
    {
      "cell_type": "code",
      "metadata": {
        "id": "TQtCrCLWiWGV",
        "colab_type": "code",
        "colab": {}
      },
      "source": [
        "train = pd.read_pickle('data/train.p')\n",
        "test = pd.read_pickle('data/test.p')\n",
        "\n",
        "X_train, y_train = train['features'], train['labels']\n",
        "X_test, y_test = test['features'], test['labels']\n",
        "\n",
        "df = pd.read_csv('data/signnames.csv')\n",
        "labels_dict = df.to_dict()['b']\n"
      ],
      "execution_count": 0,
      "outputs": []
    },
    {
      "cell_type": "code",
      "metadata": {
        "id": "LTutCr1Li6BS",
        "colab_type": "code",
        "outputId": "0233f7ce-699b-4591-d2eb-1b4a0393f773",
        "colab": {
          "base_uri": "https://localhost:8080/",
          "height": 35
        }
      },
      "source": [
        "len(np.unique(y_train)) #how many unique values do we have in y_train set? (from 0 to 42)"
      ],
      "execution_count": 6,
      "outputs": [
        {
          "output_type": "execute_result",
          "data": {
            "text/plain": [
              "43"
            ]
          },
          "metadata": {
            "tags": []
          },
          "execution_count": 6
        }
      ]
    },
    {
      "cell_type": "code",
      "metadata": {
        "id": "1ysUXY8FkIR9",
        "colab_type": "code",
        "colab": {}
      },
      "source": [
        "#we need to have a matrix with 43 columns; in each row will be only one \"1\" (i one column) and the rest numbers will be \"0\"\n",
        "#and so on for all 34799 road signs (their IDs)\n",
        "\n",
        "if y_train.ndim == 1: y_train = to_categorical(y_train)\n",
        "\n",
        "if y_test.ndim == 1: y_test = to_categorical(y_test)"
      ],
      "execution_count": 0,
      "outputs": []
    },
    {
      "cell_type": "code",
      "metadata": {
        "id": "kqOf1VcblJQo",
        "colab_type": "code",
        "outputId": "fd45d43c-5156-4ae7-ebad-4b439676fee1",
        "colab": {
          "base_uri": "https://localhost:8080/",
          "height": 35
        }
      },
      "source": [
        "y_train.shape #it shows (rows, column)"
      ],
      "execution_count": 8,
      "outputs": [
        {
          "output_type": "execute_result",
          "data": {
            "text/plain": [
              "(34799, 43)"
            ]
          },
          "metadata": {
            "tags": []
          },
          "execution_count": 8
        }
      ]
    },
    {
      "cell_type": "code",
      "metadata": {
        "id": "DNlty1XLmWK9",
        "colab_type": "code",
        "colab": {
          "base_uri": "https://localhost:8080/",
          "height": 35
        },
        "outputId": "51e75bde-d943-4bd2-b0dd-99f3da7aeaae"
      },
      "source": [
        "X_test.shape, y_test.shape"
      ],
      "execution_count": 9,
      "outputs": [
        {
          "output_type": "execute_result",
          "data": {
            "text/plain": [
              "((4410, 32, 32, 3), (4410, 43))"
            ]
          },
          "metadata": {
            "tags": []
          },
          "execution_count": 9
        }
      ]
    },
    {
      "cell_type": "code",
      "metadata": {
        "id": "IUx5OSoqnaAt",
        "colab_type": "code",
        "colab": {}
      },
      "source": [
        "input_shape = X_train.shape[1:]\n",
        "num_classes = y_train.shape[1]"
      ],
      "execution_count": 0,
      "outputs": []
    },
    {
      "cell_type": "code",
      "metadata": {
        "id": "oeiRmVfilSfl",
        "colab_type": "code",
        "outputId": "0dc3306e-600d-4b8e-8970-333be882ba43",
        "colab": {
          "base_uri": "https://localhost:8080/",
          "height": 54
        }
      },
      "source": [
        "model = Sequential([\n",
        "  Conv2D(filters=64, kernel_size=(3,3), activation='relu', input_shape=input_shape),\n",
        "\n",
        "  Flatten(),\n",
        "\n",
        "  Dense(num_classes, activation='softmax')\n",
        "])\n",
        "\n",
        "#model.summary()\n",
        "model.compile(loss= 'categorical_crossentropy', optimizer='Adam', metrics='accuracy')\n",
        "model.fit(X_train, y_train)"
      ],
      "execution_count": 11,
      "outputs": [
        {
          "output_type": "stream",
          "text": [
            "1088/1088 [==============================] - 4s 4ms/step - loss: 9.7447 - accuracy: 0.7821\n"
          ],
          "name": "stdout"
        },
        {
          "output_type": "execute_result",
          "data": {
            "text/plain": [
              "<tensorflow.python.keras.callbacks.History at 0x7f589017acf8>"
            ]
          },
          "metadata": {
            "tags": []
          },
          "execution_count": 11
        }
      ]
    },
    {
      "cell_type": "code",
      "metadata": {
        "id": "YkPL0fRixMOQ",
        "colab_type": "code",
        "colab": {}
      },
      "source": [
        "def get_cnn_v1(input_shape, num_classes):\n",
        "  return Sequential([\n",
        "  Conv2D(filters=64, kernel_size=(3,3), activation='relu', input_shape=input_shape),\n",
        "\n",
        "  Flatten(),\n",
        "\n",
        "  Dense(num_classes, activation='softmax')\n",
        "  ]) \n",
        "  \n",
        "def train_model(model, X_train, y_train, params_fit={}):\n",
        "  model.compile(loss= 'categorical_crossentropy', optimizer='Adam', metrics='accuracy')\n",
        "\n",
        "  logdir = os.path.join(\"logs\", datetime.datetime.now().strftime(\"%Y%m%d-%H%M%S\"))\n",
        "  tensorboard_callback = tf.keras.callbacks.TensorBoard( logdir, histogram_freq=1)\n",
        "  \n",
        "  model.fit(\n",
        "      X_train, \n",
        "      y_train,\n",
        "      batch_size=params_fit.get('batch size', 128),\n",
        "      epochs=params_fit.get('epochs', 5),\n",
        "      verbose=params_fit.get('verbose', 1),\n",
        "      validation_data=params_fit.get('validation data', (X_train, y_train)),\n",
        "      callbacks=[tensorboard_callback]\n",
        "  )\n",
        "  return model"
      ],
      "execution_count": 0,
      "outputs": []
    },
    {
      "cell_type": "code",
      "metadata": {
        "id": "R9pNjDU4xvFJ",
        "colab_type": "code",
        "outputId": "a89ec145-75db-4982-e853-cbe1c6d72235",
        "colab": {
          "base_uri": "https://localhost:8080/",
          "height": 202
        }
      },
      "source": [
        "model = get_cnn_v1(input_shape, num_classes)\n",
        "model_trained = train_model(model, X_train, y_train)"
      ],
      "execution_count": 13,
      "outputs": [
        {
          "output_type": "stream",
          "text": [
            "Epoch 1/5\n",
            "272/272 [==============================] - 3s 11ms/step - loss: 29.8191 - accuracy: 0.7504 - val_loss: 0.2236 - val_accuracy: 0.9500\n",
            "Epoch 2/5\n",
            "272/272 [==============================] - 3s 10ms/step - loss: 0.1769 - accuracy: 0.9584 - val_loss: 0.1092 - val_accuracy: 0.9751\n",
            "Epoch 3/5\n",
            "272/272 [==============================] - 3s 10ms/step - loss: 0.1203 - accuracy: 0.9732 - val_loss: 0.1308 - val_accuracy: 0.9714\n",
            "Epoch 4/5\n",
            "272/272 [==============================] - 3s 10ms/step - loss: 0.0941 - accuracy: 0.9781 - val_loss: 0.0491 - val_accuracy: 0.9897\n",
            "Epoch 5/5\n",
            "272/272 [==============================] - 3s 10ms/step - loss: 0.0702 - accuracy: 0.9834 - val_loss: 0.0279 - val_accuracy: 0.9938\n"
          ],
          "name": "stdout"
        }
      ]
    },
    {
      "cell_type": "code",
      "metadata": {
        "id": "GX9KiadgUCCH",
        "colab_type": "code",
        "colab": {
          "base_uri": "https://localhost:8080/",
          "height": 257
        },
        "outputId": "b4dd9381-22fd-4d3f-a10d-46797d1ae041"
      },
      "source": [
        "y_pred_prob = model_trained.predict(X_test)\n",
        "y_pred_prob"
      ],
      "execution_count": 14,
      "outputs": [
        {
          "output_type": "execute_result",
          "data": {
            "text/plain": [
              "array([[1.09129637e-07, 1.12578447e-03, 4.59269911e-01, ...,\n",
              "        3.96772384e-06, 1.29766613e-01, 1.29322438e-02],\n",
              "       [1.48982849e-07, 1.04257611e-04, 5.81459343e-01, ...,\n",
              "        1.10707697e-05, 5.88290952e-03, 3.65903112e-03],\n",
              "       [1.11791230e-07, 1.66086585e-03, 2.18496785e-01, ...,\n",
              "        9.99910753e-06, 1.03541784e-01, 1.08325062e-02],\n",
              "       ...,\n",
              "       [4.60180780e-03, 5.34527656e-03, 3.95832956e-03, ...,\n",
              "        4.53891000e-03, 1.56212854e-03, 3.74879892e-04],\n",
              "       [3.81764909e-03, 4.35594609e-03, 5.98364230e-03, ...,\n",
              "        1.68378255e-03, 2.83827935e-03, 2.68141128e-04],\n",
              "       [6.39253878e-04, 3.87085578e-03, 7.54647097e-03, ...,\n",
              "        3.16717383e-03, 1.18738890e-03, 4.09955719e-05]], dtype=float32)"
            ]
          },
          "metadata": {
            "tags": []
          },
          "execution_count": 14
        }
      ]
    },
    {
      "cell_type": "code",
      "metadata": {
        "id": "7edu9dNIVWIe",
        "colab_type": "code",
        "colab": {
          "base_uri": "https://localhost:8080/",
          "height": 220
        },
        "outputId": "34106b73-50ab-485e-beae-19df10042daf"
      },
      "source": [
        "y_pred_prob[400] #we have a road sign; \n",
        "#the model tries to recognize its name; the model determines the probability for each ID - names are assigned to ID"
      ],
      "execution_count": 15,
      "outputs": [
        {
          "output_type": "execute_result",
          "data": {
            "text/plain": [
              "array([1.0117395e-07, 9.9999988e-01, 4.3533448e-09, 3.4028310e-18,\n",
              "       4.9960608e-08, 2.0352516e-10, 2.2395128e-09, 1.2350028e-18,\n",
              "       1.3577214e-17, 1.0347817e-16, 5.4012348e-20, 1.6219053e-13,\n",
              "       1.0741811e-17, 5.8617161e-18, 2.9481582e-22, 6.8382044e-19,\n",
              "       6.3030833e-20, 1.5899932e-30, 1.6075202e-16, 2.9705707e-27,\n",
              "       3.4333550e-18, 1.7183379e-25, 6.6953013e-21, 1.1468490e-26,\n",
              "       1.3472761e-21, 1.0459293e-24, 2.9754303e-16, 1.1657200e-23,\n",
              "       1.4333910e-14, 2.3296813e-19, 7.2981670e-26, 3.3920782e-23,\n",
              "       2.8836262e-13, 2.2736750e-19, 1.1489555e-18, 2.3193131e-21,\n",
              "       2.4484539e-25, 1.3043753e-22, 1.4829000e-25, 1.2016119e-27,\n",
              "       9.6413163e-19, 1.6183615e-16, 5.4817241e-15], dtype=float32)"
            ]
          },
          "metadata": {
            "tags": []
          },
          "execution_count": 15
        }
      ]
    },
    {
      "cell_type": "code",
      "metadata": {
        "id": "7K44z7moWQ5w",
        "colab_type": "code",
        "colab": {
          "base_uri": "https://localhost:8080/",
          "height": 35
        },
        "outputId": "9b46a1e9-4ce1-44e4-cf8c-6e72883b11e3"
      },
      "source": [
        "np.argmax(y_pred_prob[400]) #the highest probability in the matrix above has... (number of the argument)"
      ],
      "execution_count": 16,
      "outputs": [
        {
          "output_type": "execute_result",
          "data": {
            "text/plain": [
              "1"
            ]
          },
          "metadata": {
            "tags": []
          },
          "execution_count": 16
        }
      ]
    },
    {
      "cell_type": "code",
      "metadata": {
        "id": "5EN2nCbXW5G6",
        "colab_type": "code",
        "colab": {
          "base_uri": "https://localhost:8080/",
          "height": 35
        },
        "outputId": "a6c36503-b4f6-4b67-f485-f91593c45ef8"
      },
      "source": [
        "labels_dict[np.argmax(y_pred_prob[400])] #are you right? It should be 'Speed limit (30km/h)'"
      ],
      "execution_count": 17,
      "outputs": [
        {
          "output_type": "execute_result",
          "data": {
            "text/plain": [
              "'Speed limit (30km/h)'"
            ]
          },
          "metadata": {
            "tags": []
          },
          "execution_count": 17
        }
      ]
    },
    {
      "cell_type": "code",
      "metadata": {
        "id": "adynySUQXqD1",
        "colab_type": "code",
        "colab": {
          "base_uri": "https://localhost:8080/",
          "height": 283
        },
        "outputId": "9fb4d166-bca5-475f-b72d-84956ae9ba74"
      },
      "source": [
        "plt.bar(range(43), y_pred_prob[400]) #you can see on the bar probability distribution for different IDs"
      ],
      "execution_count": 18,
      "outputs": [
        {
          "output_type": "execute_result",
          "data": {
            "text/plain": [
              "<BarContainer object of 43 artists>"
            ]
          },
          "metadata": {
            "tags": []
          },
          "execution_count": 18
        },
        {
          "output_type": "display_data",
          "data": {
            "image/png": "[encoded data removed]",
            "text/plain": [
              "<Figure size 432x288 with 1 Axes>"
            ]
          },
          "metadata": {
            "tags": []
          }
        }
      ]
    },
    {
      "cell_type": "code",
      "metadata": {
        "id": "Kdq1jTKTVmHb",
        "colab_type": "code",
        "colab": {
          "base_uri": "https://localhost:8080/",
          "height": 284
        },
        "outputId": "2109da83-ada5-4056-9693-4020206574a4"
      },
      "source": [
        "plt.imshow(X_test[400]) #image of road sign"
      ],
      "execution_count": 19,
      "outputs": [
        {
          "output_type": "execute_result",
          "data": {
            "text/plain": [
              "<matplotlib.image.AxesImage at 0x7f587610a160>"
            ]
          },
          "metadata": {
            "tags": []
          },
          "execution_count": 19
        },
        {
          "output_type": "display_data",
          "data": {
            "image/png": "[encoded data removed]",
            "text/plain": [
              "<Figure size 432x288 with 1 Axes>"
            ]
          },
          "metadata": {
            "tags": []
          }
        }
      ]
    },
    {
      "cell_type": "code",
      "metadata": {
        "id": "XiWRzuW5YcoE",
        "colab_type": "code",
        "colab": {}
      },
      "source": [
        "def predict(model_trained, X_test, y_test, scoring=accuracy_score):\n",
        "  y_test_norm = np.argmax(y_test, axis=1)\n",
        "\n",
        "  y_pred_prob = model_trained.predict(X_test)\n",
        "  y_pred = np.argmax(y_pred_prob, axis=1)\n",
        "\n",
        "  return scoring(y_test_norm, y_pred)"
      ],
      "execution_count": 0,
      "outputs": []
    },
    {
      "cell_type": "code",
      "metadata": {
        "id": "LvE61nmbagOx",
        "colab_type": "code",
        "colab": {
          "base_uri": "https://localhost:8080/",
          "height": 35
        },
        "outputId": "907bd583-8721-4077-965f-9a4f22b70515"
      },
      "source": [
        "predict(model_trained, X_test, y_test)"
      ],
      "execution_count": 21,
      "outputs": [
        {
          "output_type": "execute_result",
          "data": {
            "text/plain": [
              "0.8376417233560091"
            ]
          },
          "metadata": {
            "tags": []
          },
          "execution_count": 21
        }
      ]
    },
    {
      "cell_type": "code",
      "metadata": {
        "id": "Wy7Nirbv36m3",
        "colab_type": "code",
        "colab": {}
      },
      "source": [
        "def train_and_predict(model):\n",
        "  model_trained = train_model(model, X_train, y_train)\n",
        "  return predict(model_trained, X_test, y_test)"
      ],
      "execution_count": 0,
      "outputs": []
    },
    {
      "cell_type": "code",
      "metadata": {
        "id": "PvLguin221Wb",
        "colab_type": "code",
        "colab": {
          "base_uri": "https://localhost:8080/",
          "height": 220
        },
        "outputId": "d8a17c25-04d9-4396-d843-51a751c00ee5"
      },
      "source": [
        "def get_cnn_v2(input_shape, num_classes):\n",
        "  return Sequential([\n",
        "  Conv2D(filters=32, kernel_size=(3,3), activation='relu', input_shape=input_shape),\n",
        "  MaxPool2D(),\n",
        "  Dropout(0.3),\n",
        "  \n",
        "  Conv2D(filters=64, kernel_size=(3,3), activation='relu'),\n",
        "  MaxPool2D(),\n",
        "  Dropout(0.3),\n",
        "\n",
        "  Flatten(),\n",
        "\n",
        "  Dense(1024, activation='relu'),\n",
        "  Dropout(0.3),\n",
        "\n",
        "  Dense(num_classes, activation='softmax')\n",
        "  ]) \n",
        "\n",
        "train_and_predict(get_cnn_v2(input_shape, num_classes))"
      ],
      "execution_count": 23,
      "outputs": [
        {
          "output_type": "stream",
          "text": [
            "Epoch 1/5\n",
            "272/272 [==============================] - 3s 11ms/step - loss: 5.5791 - accuracy: 0.2416 - val_loss: 1.5084 - val_accuracy: 0.6009\n",
            "Epoch 2/5\n",
            "272/272 [==============================] - 3s 10ms/step - loss: 1.2346 - accuracy: 0.6430 - val_loss: 0.3999 - val_accuracy: 0.9212\n",
            "Epoch 3/5\n",
            "272/272 [==============================] - 3s 10ms/step - loss: 0.6567 - accuracy: 0.8055 - val_loss: 0.2396 - val_accuracy: 0.9451\n",
            "Epoch 4/5\n",
            "272/272 [==============================] - 3s 10ms/step - loss: 0.4595 - accuracy: 0.8632 - val_loss: 0.1310 - val_accuracy: 0.9670\n",
            "Epoch 5/5\n",
            "272/272 [==============================] - 3s 10ms/step - loss: 0.3558 - accuracy: 0.8936 - val_loss: 0.1177 - val_accuracy: 0.9767\n"
          ],
          "name": "stdout"
        },
        {
          "output_type": "execute_result",
          "data": {
            "text/plain": [
              "0.8845804988662131"
            ]
          },
          "metadata": {
            "tags": []
          },
          "execution_count": 23
        }
      ]
    },
    {
      "cell_type": "code",
      "metadata": {
        "id": "cnuccUnW5Ooi",
        "colab_type": "code",
        "colab": {
          "base_uri": "https://localhost:8080/",
          "height": 220
        },
        "outputId": "93ed7be0-95ac-4c10-9076-8161218b3ab2"
      },
      "source": [
        "def get_cnn_v3(input_shape, num_classes):\n",
        "  return Sequential([\n",
        "  Conv2D(filters=32, kernel_size=(3,3), activation='relu', input_shape=input_shape),\n",
        "  Conv2D(filters=32, kernel_size=(3,3), activation='relu'),\n",
        "  MaxPool2D(),\n",
        "  Dropout(0.3),\n",
        "  \n",
        "  Conv2D(filters=64, kernel_size=(3,3), activation='relu'),\n",
        "  Conv2D(filters=64, kernel_size=(3,3), activation='relu'),\n",
        "  MaxPool2D(),\n",
        "  Dropout(0.3),\n",
        "\n",
        "  Flatten(),\n",
        "\n",
        "  Dense(1024, activation='relu'),\n",
        "  Dropout(0.3),\n",
        "\n",
        "  Dense(num_classes, activation='softmax')\n",
        "  ]) \n",
        "\n",
        "train_and_predict(get_cnn_v3(input_shape, num_classes))"
      ],
      "execution_count": 24,
      "outputs": [
        {
          "output_type": "stream",
          "text": [
            "Epoch 1/5\n",
            "272/272 [==============================] - 4s 14ms/step - loss: 2.2892 - accuracy: 0.5194 - val_loss: 0.2842 - val_accuracy: 0.9352\n",
            "Epoch 2/5\n",
            "272/272 [==============================] - 3s 12ms/step - loss: 0.3671 - accuracy: 0.8931 - val_loss: 0.0706 - val_accuracy: 0.9842\n",
            "Epoch 3/5\n",
            "272/272 [==============================] - 3s 13ms/step - loss: 0.1922 - accuracy: 0.9447 - val_loss: 0.0469 - val_accuracy: 0.9898\n",
            "Epoch 4/5\n",
            "272/272 [==============================] - 3s 12ms/step - loss: 0.1335 - accuracy: 0.9619 - val_loss: 0.0167 - val_accuracy: 0.9964\n",
            "Epoch 5/5\n",
            "272/272 [==============================] - 3s 12ms/step - loss: 0.1010 - accuracy: 0.9702 - val_loss: 0.0139 - val_accuracy: 0.9975\n"
          ],
          "name": "stdout"
        },
        {
          "output_type": "execute_result",
          "data": {
            "text/plain": [
              "0.9748299319727891"
            ]
          },
          "metadata": {
            "tags": []
          },
          "execution_count": 24
        }
      ]
    },
    {
      "cell_type": "code",
      "metadata": {
        "id": "8oad1fKf6c5o",
        "colab_type": "code",
        "colab": {
          "base_uri": "https://localhost:8080/",
          "height": 220
        },
        "outputId": "58864adc-7f0b-4fd4-a38a-1eabeec68563"
      },
      "source": [
        "def get_cnn_v4(input_shape, num_classes):\n",
        "  return Sequential([\n",
        "  Conv2D(filters=32, kernel_size=(3,3), activation='relu', input_shape=input_shape),\n",
        "  Conv2D(filters=32, kernel_size=(3,3), activation='relu', padding='same'),\n",
        "  MaxPool2D(),\n",
        "  Dropout(0.3),\n",
        "  \n",
        "  Conv2D(filters=64, kernel_size=(3,3), activation='relu', padding='same'),\n",
        "  Conv2D(filters=64, kernel_size=(3,3), activation='relu'),\n",
        "  MaxPool2D(),\n",
        "  Dropout(0.3),\n",
        "\n",
        "  Conv2D(filters=64, kernel_size=(3,3), activation='relu', padding='same'),\n",
        "  Conv2D(filters=64, kernel_size=(3,3), activation='relu'),\n",
        "  MaxPool2D(),\n",
        "  Dropout(0.3),\n",
        "\n",
        "  Flatten(),\n",
        "\n",
        "  Dense(1024, activation='relu'),\n",
        "  Dropout(0.3),\n",
        "\n",
        "  Dense(num_classes, activation='softmax')\n",
        "  ]) \n",
        "\n",
        "train_and_predict(get_cnn_v4(input_shape, num_classes))"
      ],
      "execution_count": 26,
      "outputs": [
        {
          "output_type": "stream",
          "text": [
            "Epoch 1/5\n",
            "272/272 [==============================] - 4s 15ms/step - loss: 2.5799 - accuracy: 0.3202 - val_loss: 1.0001 - val_accuracy: 0.7069\n",
            "Epoch 2/5\n",
            "272/272 [==============================] - 4s 14ms/step - loss: 0.9304 - accuracy: 0.7134 - val_loss: 0.2972 - val_accuracy: 0.9149\n",
            "Epoch 3/5\n",
            "272/272 [==============================] - 4s 14ms/step - loss: 0.4866 - accuracy: 0.8499 - val_loss: 0.1129 - val_accuracy: 0.9700\n",
            "Epoch 4/5\n",
            "272/272 [==============================] - 4s 14ms/step - loss: 0.3001 - accuracy: 0.9086 - val_loss: 0.0540 - val_accuracy: 0.9855\n",
            "Epoch 5/5\n",
            "272/272 [==============================] - 4s 14ms/step - loss: 0.2386 - accuracy: 0.9271 - val_loss: 0.0411 - val_accuracy: 0.9893\n"
          ],
          "name": "stdout"
        },
        {
          "output_type": "execute_result",
          "data": {
            "text/plain": [
              "0.9662131519274376"
            ]
          },
          "metadata": {
            "tags": []
          },
          "execution_count": 26
        }
      ]
    },
    {
      "cell_type": "code",
      "metadata": {
        "id": "3rurpPlG7AFY",
        "colab_type": "code",
        "colab": {
          "base_uri": "https://localhost:8080/",
          "height": 220
        },
        "outputId": "f310f466-b5fc-409f-da9c-0e3fd699efc5"
      },
      "source": [
        "def get_cnn_v5(input_shape, num_classes):\n",
        "  return Sequential([\n",
        "  Conv2D(filters=32, kernel_size=(3,3), activation='relu', input_shape=input_shape),\n",
        "  Conv2D(filters=32, kernel_size=(3,3), activation='relu', padding='same'),\n",
        "  MaxPool2D(),\n",
        "  Dropout(0.3),\n",
        "  \n",
        "  Conv2D(filters=64, kernel_size=(3,3), activation='relu', padding='same'),\n",
        "  Conv2D(filters=64, kernel_size=(3,3), activation='relu'),\n",
        "  MaxPool2D(),\n",
        "  Dropout(0.3),\n",
        "\n",
        "  Conv2D(filters=64, kernel_size=(3,3), activation='relu', padding='same'),\n",
        "  Conv2D(filters=64, kernel_size=(3,3), activation='relu'),\n",
        "  MaxPool2D(),\n",
        "  Dropout(0.3),\n",
        "\n",
        "  Flatten(),\n",
        "\n",
        "  Dense(1024, activation='relu'),\n",
        "  Dropout(0.3),\n",
        "\n",
        "  Dense(1024, activation='relu'),\n",
        "  Dropout(0.3),\n",
        "\n",
        "  Dense(num_classes, activation='softmax')\n",
        "  ]) \n",
        "\n",
        "train_and_predict(get_cnn_v5(input_shape, num_classes))"
      ],
      "execution_count": 27,
      "outputs": [
        {
          "output_type": "stream",
          "text": [
            "Epoch 1/5\n",
            "272/272 [==============================] - 4s 16ms/step - loss: 2.5854 - accuracy: 0.2995 - val_loss: 0.9680 - val_accuracy: 0.7023\n",
            "Epoch 2/5\n",
            "272/272 [==============================] - 4s 15ms/step - loss: 0.8593 - accuracy: 0.7274 - val_loss: 0.1959 - val_accuracy: 0.9372\n",
            "Epoch 3/5\n",
            "272/272 [==============================] - 4s 15ms/step - loss: 0.3834 - accuracy: 0.8819 - val_loss: 0.0956 - val_accuracy: 0.9719\n",
            "Epoch 4/5\n",
            "272/272 [==============================] - 4s 15ms/step - loss: 0.2573 - accuracy: 0.9232 - val_loss: 0.0490 - val_accuracy: 0.9869\n",
            "Epoch 5/5\n",
            "272/272 [==============================] - 4s 15ms/step - loss: 0.1881 - accuracy: 0.9431 - val_loss: 0.0478 - val_accuracy: 0.9874\n"
          ],
          "name": "stdout"
        },
        {
          "output_type": "execute_result",
          "data": {
            "text/plain": [
              "0.9582766439909297"
            ]
          },
          "metadata": {
            "tags": []
          },
          "execution_count": 27
        }
      ]
    },
    {
      "cell_type": "code",
      "metadata": {
        "id": "ub8wektR8Z33",
        "colab_type": "code",
        "colab": {
          "base_uri": "https://localhost:8080/",
          "height": 35
        },
        "outputId": "f57baa2d-2d0b-43c4-b287-c21e157fe02f"
      },
      "source": [
        "X_train[0].shape #values describe a road sign; \"3\" means 3 channels RGB - we want to have only 1 "
      ],
      "execution_count": 28,
      "outputs": [
        {
          "output_type": "execute_result",
          "data": {
            "text/plain": [
              "(32, 32, 3)"
            ]
          },
          "metadata": {
            "tags": []
          },
          "execution_count": 28
        }
      ]
    },
    {
      "cell_type": "code",
      "metadata": {
        "id": "2tIqyQ2_84QO",
        "colab_type": "code",
        "colab": {
          "base_uri": "https://localhost:8080/",
          "height": 284
        },
        "outputId": "546938b6-4ce4-47c6-da3e-f70e3edae28a"
      },
      "source": [
        "plt.imshow( color.rgb2gray(X_train[0]), cmap = plt.get_cmap('gray') )"
      ],
      "execution_count": 29,
      "outputs": [
        {
          "output_type": "execute_result",
          "data": {
            "text/plain": [
              "<matplotlib.image.AxesImage at 0x7f583b9303c8>"
            ]
          },
          "metadata": {
            "tags": []
          },
          "execution_count": 29
        },
        {
          "output_type": "display_data",
          "data": {
            "image/png": "[encoded data removed]",
            "text/plain": [
              "<Figure size 432x288 with 1 Axes>"
            ]
          },
          "metadata": {
            "tags": []
          }
        }
      ]
    },
    {
      "cell_type": "code",
      "metadata": {
        "id": "jao0f-v3-CaW",
        "colab_type": "code",
        "colab": {}
      },
      "source": [
        "X_train_gray = color.rgb2gray(X_train).reshape(-1, 32, 32, 1)\n",
        "X_test_gray = color.rgb2gray(X_test).reshape(-1, 32, 32, 1)"
      ],
      "execution_count": 0,
      "outputs": []
    },
    {
      "cell_type": "code",
      "metadata": {
        "id": "7qd84qvw-Xre",
        "colab_type": "code",
        "colab": {
          "base_uri": "https://localhost:8080/",
          "height": 220
        },
        "outputId": "b82a05c5-1dc0-436e-da64-37e571852022"
      },
      "source": [
        "model = get_cnn_v5((32,32,1), num_classes)\n",
        "model_trained = train_model(model, X_train_gray, y_train, params_fit={})\n",
        "predict(model_trained, X_test_gray, y_test)"
      ],
      "execution_count": 33,
      "outputs": [
        {
          "output_type": "stream",
          "text": [
            "Epoch 1/5\n",
            "272/272 [==============================] - 5s 17ms/step - loss: 2.6286 - accuracy: 0.2651 - val_loss: 0.6876 - val_accuracy: 0.7767\n",
            "Epoch 2/5\n",
            "272/272 [==============================] - 4s 15ms/step - loss: 0.5309 - accuracy: 0.8312 - val_loss: 0.1741 - val_accuracy: 0.9474\n",
            "Epoch 3/5\n",
            "272/272 [==============================] - 4s 15ms/step - loss: 0.2445 - accuracy: 0.9226 - val_loss: 0.0607 - val_accuracy: 0.9823\n",
            "Epoch 4/5\n",
            "272/272 [==============================] - 4s 15ms/step - loss: 0.1584 - accuracy: 0.9502 - val_loss: 0.0382 - val_accuracy: 0.9888\n",
            "Epoch 5/5\n",
            "272/272 [==============================] - 4s 15ms/step - loss: 0.1276 - accuracy: 0.9610 - val_loss: 0.0300 - val_accuracy: 0.9912\n"
          ],
          "name": "stdout"
        },
        {
          "output_type": "execute_result",
          "data": {
            "text/plain": [
              "0.9578231292517007"
            ]
          },
          "metadata": {
            "tags": []
          },
          "execution_count": 33
        }
      ]
    },
    {
      "cell_type": "code",
      "metadata": {
        "id": "4BDhO0GzVI9E",
        "colab_type": "code",
        "colab": {}
      },
      "source": [
        "def preproc_img(img):\n",
        "  hsv = color.rgb2hsv(img)\n",
        "  hsv[:, :, 2] = exposure.equalize_adapthist(hsv[:, :, 2])\n",
        "  img = color.hsv2rgb(hsv)\n",
        "\n",
        "  return img"
      ],
      "execution_count": 0,
      "outputs": []
    },
    {
      "cell_type": "code",
      "metadata": {
        "id": "00cJVO-YWYNa",
        "colab_type": "code",
        "colab": {
          "base_uri": "https://localhost:8080/",
          "height": 284
        },
        "outputId": "9180d82b-3897-4f04-a20a-ee04db39ebb1"
      },
      "source": [
        "plt.imshow( X_train[400] )"
      ],
      "execution_count": 35,
      "outputs": [
        {
          "output_type": "execute_result",
          "data": {
            "text/plain": [
              "<matplotlib.image.AxesImage at 0x7f585c2c7a20>"
            ]
          },
          "metadata": {
            "tags": []
          },
          "execution_count": 35
        },
        {
          "output_type": "display_data",
          "data": {
            "image/png": "[encoded data removed]",
            "text/plain": [
              "<Figure size 432x288 with 1 Axes>"
            ]
          },
          "metadata": {
            "tags": []
          }
        }
      ]
    },
    {
      "cell_type": "code",
      "metadata": {
        "id": "-Qf5sGG5Wjfx",
        "colab_type": "code",
        "colab": {
          "base_uri": "https://localhost:8080/",
          "height": 284
        },
        "outputId": "1d74f855-7ed7-42b0-f1ce-739d83198ca6"
      },
      "source": [
        "plt.imshow( preproc_img(X_train[400]) )"
      ],
      "execution_count": 36,
      "outputs": [
        {
          "output_type": "execute_result",
          "data": {
            "text/plain": [
              "<matplotlib.image.AxesImage at 0x7f58900f4cc0>"
            ]
          },
          "metadata": {
            "tags": []
          },
          "execution_count": 36
        },
        {
          "output_type": "display_data",
          "data": {
            "image/png": "[encoded data removed]",
            "text/plain": [
              "<Figure size 432x288 with 1 Axes>"
            ]
          },
          "metadata": {
            "tags": []
          }
        }
      ]
    },
    {
      "cell_type": "code",
      "metadata": {
        "id": "ri7uwmCPzY78",
        "colab_type": "code",
        "colab": {}
      },
      "source": [
        "#%tensorboard --logdir logs #you can see result only using Chrome; correct code to do that in day3"
      ],
      "execution_count": 0,
      "outputs": []
    },
    {
      "cell_type": "code",
      "metadata": {
        "id": "AU2qmDKU5jZS",
        "colab_type": "code",
        "colab": {}
      },
      "source": [
        "def get_cnn_v6(input_shape, num_classes):\n",
        "  return Sequential([\n",
        "  Conv2D(filters=32, kernel_size=(3,3), activation='relu', input_shape=input_shape),\n",
        "  MaxPool2D(),\n",
        "  Dropout(0.5),\n",
        "\n",
        "  Conv2D(filters=64, kernel_size=(3,3), activation='relu', input_shape=input_shape),\n",
        "  MaxPool2D(),\n",
        "  Dropout(0.3),\n",
        "\n",
        "  Flatten(),\n",
        "\n",
        "  Dense(1024, activation='relu'),\n",
        "  Dropout(0.5),\n",
        "\n",
        "  Dense(num_classes, activation='softmax')\n",
        "  ])"
      ],
      "execution_count": 0,
      "outputs": []
    },
    {
      "cell_type": "code",
      "metadata": {
        "id": "diSg2WJp49oX",
        "colab_type": "code",
        "outputId": "0143d1ee-c035-485e-c917-0f5d88733011",
        "colab": {
          "base_uri": "https://localhost:8080/",
          "height": 884
        }
      },
      "source": [
        "model = get_cnn_v6(input_shape, num_classes)\n",
        "params_fit = {\n",
        "    'epochs':25\n",
        "}\n",
        "train_model(model, X_train, y_train, params_fit)"
      ],
      "execution_count": 0,
      "outputs": [
        {
          "output_type": "stream",
          "text": [
            "Epoch 1/25\n",
            "272/272 [==============================] - 6s 24ms/step - loss: 8.0284 - accuracy: 0.1391 - val_loss: 2.3173 - val_accuracy: 0.4013\n",
            "Epoch 2/25\n",
            "272/272 [==============================] - 6s 23ms/step - loss: 2.0969 - accuracy: 0.4031 - val_loss: 1.4121 - val_accuracy: 0.5897\n",
            "Epoch 3/25\n",
            "272/272 [==============================] - 6s 23ms/step - loss: 1.4459 - accuracy: 0.5612 - val_loss: 0.8164 - val_accuracy: 0.7698\n",
            "Epoch 4/25\n",
            "272/272 [==============================] - 6s 23ms/step - loss: 0.9570 - accuracy: 0.6987 - val_loss: 0.4123 - val_accuracy: 0.8903\n",
            "Epoch 5/25\n",
            "272/272 [==============================] - 6s 23ms/step - loss: 0.6952 - accuracy: 0.7805 - val_loss: 0.2904 - val_accuracy: 0.9227\n",
            "Epoch 6/25\n",
            "272/272 [==============================] - 6s 23ms/step - loss: 0.5442 - accuracy: 0.8278 - val_loss: 0.1783 - val_accuracy: 0.9563\n",
            "Epoch 7/25\n",
            "272/272 [==============================] - 6s 23ms/step - loss: 0.4588 - accuracy: 0.8564 - val_loss: 0.1577 - val_accuracy: 0.9558\n",
            "Epoch 8/25\n",
            "272/272 [==============================] - 6s 23ms/step - loss: 0.4081 - accuracy: 0.8742 - val_loss: 0.1176 - val_accuracy: 0.9738\n",
            "Epoch 9/25\n",
            "272/272 [==============================] - 6s 23ms/step - loss: 0.3623 - accuracy: 0.8893 - val_loss: 0.0832 - val_accuracy: 0.9803\n",
            "Epoch 10/25\n",
            "272/272 [==============================] - 6s 23ms/step - loss: 0.3228 - accuracy: 0.9010 - val_loss: 0.0692 - val_accuracy: 0.9848\n",
            "Epoch 11/25\n",
            "272/272 [==============================] - 6s 23ms/step - loss: 0.3034 - accuracy: 0.9058 - val_loss: 0.0524 - val_accuracy: 0.9884\n",
            "Epoch 12/25\n",
            "272/272 [==============================] - 6s 23ms/step - loss: 0.2845 - accuracy: 0.9140 - val_loss: 0.0548 - val_accuracy: 0.9892\n",
            "Epoch 13/25\n",
            "272/272 [==============================] - 6s 23ms/step - loss: 0.2701 - accuracy: 0.9180 - val_loss: 0.0575 - val_accuracy: 0.9870\n",
            "Epoch 14/25\n",
            "272/272 [==============================] - 6s 23ms/step - loss: 0.2545 - accuracy: 0.9233 - val_loss: 0.0601 - val_accuracy: 0.9849\n",
            "Epoch 15/25\n",
            "272/272 [==============================] - 6s 23ms/step - loss: 0.2459 - accuracy: 0.9253 - val_loss: 0.0385 - val_accuracy: 0.9921\n",
            "Epoch 16/25\n",
            "272/272 [==============================] - 6s 23ms/step - loss: 0.2366 - accuracy: 0.9300 - val_loss: 0.0491 - val_accuracy: 0.9872\n",
            "Epoch 17/25\n",
            "272/272 [==============================] - 6s 23ms/step - loss: 0.2365 - accuracy: 0.9296 - val_loss: 0.0397 - val_accuracy: 0.9901\n",
            "Epoch 18/25\n",
            "272/272 [==============================] - 6s 23ms/step - loss: 0.2411 - accuracy: 0.9290 - val_loss: 0.0545 - val_accuracy: 0.9880\n",
            "Epoch 19/25\n",
            "272/272 [==============================] - 6s 23ms/step - loss: 0.2469 - accuracy: 0.9306 - val_loss: 0.0314 - val_accuracy: 0.9928\n",
            "Epoch 20/25\n",
            "272/272 [==============================] - 6s 23ms/step - loss: 0.2370 - accuracy: 0.9316 - val_loss: 0.0295 - val_accuracy: 0.9918\n",
            "Epoch 21/25\n",
            "272/272 [==============================] - 6s 23ms/step - loss: 0.2199 - accuracy: 0.9363 - val_loss: 0.0261 - val_accuracy: 0.9946\n",
            "Epoch 22/25\n",
            "272/272 [==============================] - 6s 23ms/step - loss: 0.2260 - accuracy: 0.9359 - val_loss: 0.0314 - val_accuracy: 0.9929\n",
            "Epoch 23/25\n",
            "272/272 [==============================] - 6s 23ms/step - loss: 0.2263 - accuracy: 0.9368 - val_loss: 0.0225 - val_accuracy: 0.9942\n",
            "Epoch 24/25\n",
            "272/272 [==============================] - 6s 23ms/step - loss: 0.2454 - accuracy: 0.9343 - val_loss: 0.0332 - val_accuracy: 0.9905\n",
            "Epoch 25/25\n",
            "272/272 [==============================] - 6s 23ms/step - loss: 0.2070 - accuracy: 0.9453 - val_loss: 0.0264 - val_accuracy: 0.9936\n"
          ],
          "name": "stdout"
        },
        {
          "output_type": "execute_result",
          "data": {
            "text/plain": [
              "'logs/20200401-170124'"
            ]
          },
          "metadata": {
            "tags": []
          },
          "execution_count": 16
        }
      ]
    },
    {
      "cell_type": "code",
      "metadata": {
        "id": "1y7F9DG378sE",
        "colab_type": "code",
        "colab": {}
      },
      "source": [
        "#%tensorboard --logdir logs #you can see result only using Chrome; correct code to do that in day3"
      ],
      "execution_count": 0,
      "outputs": []
    }
  ]
}