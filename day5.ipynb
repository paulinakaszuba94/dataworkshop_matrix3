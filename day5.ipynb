{
  "nbformat": 4,
  "nbformat_minor": 0,
  "metadata": {
    "colab": {
      "name": "day5.ipynb",
      "provenance": [],
      "collapsed_sections": [],
      "mount_file_id": "1fBOdYOgrdgoo8RkjdjZbMj47SkKcXESw",
      "authorship_tag": "ABX9TyOXpuDmLHOhxn6n7yHAGHcX",
      "include_colab_link": true
    },
    "kernelspec": {
      "name": "python3",
      "display_name": "Python 3"
    },
    "accelerator": "GPU"
  },
  "cells": [
    {
      "cell_type": "markdown",
      "metadata": {
        "id": "view-in-github",
        "colab_type": "text"
      },
      "source": [
        "<a href=\"https://colab.research.google.com/github/paulinakaszuba94/dataworkshop_matrix3/blob/master/day5.ipynb\" target=\"_parent\"><img src=\"https://colab.research.google.com/assets/colab-badge.svg\" alt=\"Open In Colab\"/></a>"
      ]
    },
    {
      "cell_type": "code",
      "metadata": {
        "id": "FeZvMHuLWCrw",
        "colab_type": "code",
        "colab": {
          "base_uri": "https://localhost:8080/",
          "height": 183
        },
        "outputId": "36cb52f7-e753-45c2-c33e-7c5c5e684af8"
      },
      "source": [
        "!pip install hyperopt"
      ],
      "execution_count": 1,
      "outputs": [
        {
          "output_type": "stream",
          "text": [
            "Requirement already satisfied: hyperopt in /usr/local/lib/python3.6/dist-packages (0.1.2)\n",
            "Requirement already satisfied: six in /usr/local/lib/python3.6/dist-packages (from hyperopt) (1.12.0)\n",
            "Requirement already satisfied: future in /usr/local/lib/python3.6/dist-packages (from hyperopt) (0.16.0)\n",
            "Requirement already satisfied: scipy in /usr/local/lib/python3.6/dist-packages (from hyperopt) (1.4.1)\n",
            "Requirement already satisfied: numpy in /usr/local/lib/python3.6/dist-packages (from hyperopt) (1.18.2)\n",
            "Requirement already satisfied: pymongo in /usr/local/lib/python3.6/dist-packages (from hyperopt) (3.10.1)\n",
            "Requirement already satisfied: networkx in /usr/local/lib/python3.6/dist-packages (from hyperopt) (2.4)\n",
            "Requirement already satisfied: tqdm in /usr/local/lib/python3.6/dist-packages (from hyperopt) (4.38.0)\n",
            "Requirement already satisfied: decorator>=4.3.0 in /usr/local/lib/python3.6/dist-packages (from networkx->hyperopt) (4.4.2)\n"
          ],
          "name": "stdout"
        }
      ]
    },
    {
      "cell_type": "code",
      "metadata": {
        "id": "jeT0OoePWwjh",
        "colab_type": "code",
        "colab": {}
      },
      "source": [
        "import pandas as pd\n",
        "import numpy as np\n",
        "import matplotlib.pyplot as plt\n",
        "from skimage import color, exposure\n",
        "import os\n",
        "import datetime\n",
        "\n",
        "import tensorflow as tf\n",
        "from tensorflow.keras.models import Sequential\n",
        "from tensorflow.keras.layers import Conv2D, MaxPool2D, Dense, Flatten, Dropout\n",
        "from tensorflow.keras.utils import to_categorical\n",
        "from sklearn.metrics import accuracy_score\n",
        "\n",
        "%reload_ext tensorboard\n",
        "\n",
        "from hyperopt import hp, STATUS_OK, tpe, Trials, fmin"
      ],
      "execution_count": 0,
      "outputs": []
    },
    {
      "cell_type": "code",
      "metadata": {
        "id": "rARBuPStXEET",
        "colab_type": "code",
        "colab": {
          "base_uri": "https://localhost:8080/",
          "height": 35
        },
        "outputId": "88c7cfd0-bcd4-4873-9cf3-b9be59ecf921"
      },
      "source": [
        "cd '/content/drive/My Drive/Colab Notebooks/dataworkshop_matrix/matrix3/dataworkshop_matrix3'"
      ],
      "execution_count": 3,
      "outputs": [
        {
          "output_type": "stream",
          "text": [
            "/content/drive/My Drive/Colab Notebooks/dataworkshop_matrix/matrix3/dataworkshop_matrix3\n"
          ],
          "name": "stdout"
        }
      ]
    },
    {
      "cell_type": "code",
      "metadata": {
        "id": "OYVvd-tUXNxw",
        "colab_type": "code",
        "colab": {}
      },
      "source": [
        "train = pd.read_pickle('data/train.p')\n",
        "test = pd.read_pickle('data/test.p')\n",
        "\n",
        "X_train, y_train = train['features'], train['labels']\n",
        "X_test, y_test = test['features'], test['labels']\n",
        "\n",
        "df = pd.read_csv('data/signnames.csv')\n",
        "labels_dict = df.to_dict()['b']"
      ],
      "execution_count": 0,
      "outputs": []
    },
    {
      "cell_type": "code",
      "metadata": {
        "id": "TWiQKUe7Xb4Y",
        "colab_type": "code",
        "colab": {}
      },
      "source": [
        "if y_train.ndim == 1: y_train = to_categorical(y_train)\n",
        "if y_test.ndim == 1: y_test = to_categorical(y_test)"
      ],
      "execution_count": 0,
      "outputs": []
    },
    {
      "cell_type": "code",
      "metadata": {
        "id": "V6Y34GKuXf74",
        "colab_type": "code",
        "colab": {}
      },
      "source": [
        "input_shape = X_train.shape[1:]\n",
        "num_classes = y_train.shape[1]"
      ],
      "execution_count": 0,
      "outputs": []
    },
    {
      "cell_type": "code",
      "metadata": {
        "id": "F3wdJ-gzXxYg",
        "colab_type": "code",
        "colab": {}
      },
      "source": [
        "def train_model(model, X_train, y_train, params_fit={}):\n",
        "  model.compile(loss= 'categorical_crossentropy', optimizer='Adam', metrics='accuracy')\n",
        "\n",
        "  logdir = os.path.join(\"logs\", datetime.datetime.now().strftime(\"%Y%m%d-%H%M%S\"))\n",
        "  tensorboard_callback = tf.keras.callbacks.TensorBoard( logdir, histogram_freq=1)\n",
        "  \n",
        "  model.fit(\n",
        "      X_train, \n",
        "      y_train,\n",
        "      batch_size=params_fit.get('batch size', 128),\n",
        "      epochs=params_fit.get('epochs', 5),\n",
        "      verbose=params_fit.get('verbose', 1),\n",
        "      validation_data=params_fit.get('validation data', (X_train, y_train)),\n",
        "      callbacks=[tensorboard_callback]\n",
        "  )\n",
        "  return model\n",
        "\n",
        "def predict(model_trained, X_test, y_test, scoring=accuracy_score):\n",
        "  y_test_norm = np.argmax(y_test, axis=1)\n",
        "\n",
        "  y_pred_prob = model_trained.predict(X_test)\n",
        "  y_pred = np.argmax(y_pred_prob, axis=1)\n",
        "\n",
        "  return scoring(y_test_norm, y_pred)"
      ],
      "execution_count": 0,
      "outputs": []
    },
    {
      "cell_type": "code",
      "metadata": {
        "id": "_1_1OCi3YCqd",
        "colab_type": "code",
        "colab": {}
      },
      "source": [
        "def get_cnn_v5(input_shape, num_classes):\n",
        "  return Sequential([\n",
        "  Conv2D(filters=32, kernel_size=(3,3), activation='relu', input_shape=input_shape),\n",
        "  Conv2D(filters=32, kernel_size=(3,3), activation='relu', input_shape=input_shape),\n",
        "  Conv2D(filters=32, kernel_size=(3,3), activation='relu', padding='same'),\n",
        "  MaxPool2D(),\n",
        "  Dropout(0.3),\n",
        "  \n",
        "  Conv2D(filters=64, kernel_size=(3,3), activation='relu', padding='same'),\n",
        "  Conv2D(filters=64, kernel_size=(3,3), activation='relu'),\n",
        "  MaxPool2D(),\n",
        "  Dropout(0.3),\n",
        "\n",
        "  Conv2D(filters=64, kernel_size=(3,3), activation='relu', padding='same'),\n",
        "  Conv2D(filters=64, kernel_size=(3,3), activation='relu'),\n",
        "  MaxPool2D(),\n",
        "  Dropout(0.3),\n",
        "\n",
        "  Flatten(),\n",
        "\n",
        "  Dense(1024, activation='relu'),\n",
        "  Dropout(0.3),\n",
        "\n",
        "  Dense(1024, activation='relu'),\n",
        "  Dropout(0.3),\n",
        "\n",
        "  Dense(num_classes, activation='softmax')\n",
        "  ])"
      ],
      "execution_count": 0,
      "outputs": []
    },
    {
      "cell_type": "code",
      "metadata": {
        "id": "6Wbkv-9zYPlk",
        "colab_type": "code",
        "colab": {
          "base_uri": "https://localhost:8080/",
          "height": 220
        },
        "outputId": "07406db9-ecd5-4be4-a309-2fc0c3475c9b"
      },
      "source": [
        "model = get_cnn_v5(input_shape, num_classes)\n",
        "model_trained = train_model(model, X_train, y_train)\n",
        "\n",
        "predict(model_trained, X_test, y_test)"
      ],
      "execution_count": 20,
      "outputs": [
        {
          "output_type": "stream",
          "text": [
            "Epoch 1/5\n",
            "272/272 [==============================] - 5s 18ms/step - loss: 2.4243 - accuracy: 0.3331 - val_loss: 0.7448 - val_accuracy: 0.7698\n",
            "Epoch 2/5\n",
            "272/272 [==============================] - 4s 16ms/step - loss: 0.6636 - accuracy: 0.7961 - val_loss: 0.1937 - val_accuracy: 0.9436\n",
            "Epoch 3/5\n",
            "272/272 [==============================] - 5s 17ms/step - loss: 0.3333 - accuracy: 0.9014 - val_loss: 0.1080 - val_accuracy: 0.9686\n",
            "Epoch 4/5\n",
            "272/272 [==============================] - 4s 16ms/step - loss: 0.2118 - accuracy: 0.9370 - val_loss: 0.0558 - val_accuracy: 0.9827\n",
            "Epoch 5/5\n",
            "272/272 [==============================] - 5s 17ms/step - loss: 0.1755 - accuracy: 0.9502 - val_loss: 0.0451 - val_accuracy: 0.9876\n"
          ],
          "name": "stdout"
        },
        {
          "output_type": "execute_result",
          "data": {
            "text/plain": [
              "0.964172335600907"
            ]
          },
          "metadata": {
            "tags": []
          },
          "execution_count": 20
        }
      ]
    },
    {
      "cell_type": "code",
      "metadata": {
        "id": "0SehszF7aHNP",
        "colab_type": "code",
        "colab": {
          "base_uri": "https://localhost:8080/",
          "height": 72
        },
        "outputId": "eb32d251-fab2-4a95-893f-42a17dbbd1b7"
      },
      "source": [
        "model_trained.evaluate(X_test, y_test)"
      ],
      "execution_count": 21,
      "outputs": [
        {
          "output_type": "stream",
          "text": [
            "138/138 [==============================] - 0s 3ms/step - loss: 0.1656 - accuracy: 0.9642\n"
          ],
          "name": "stdout"
        },
        {
          "output_type": "execute_result",
          "data": {
            "text/plain": [
              "[0.16561594605445862, 0.96417236328125]"
            ]
          },
          "metadata": {
            "tags": []
          },
          "execution_count": 21
        }
      ]
    },
    {
      "cell_type": "code",
      "metadata": {
        "id": "r4oi001tfRa1",
        "colab_type": "code",
        "colab": {}
      },
      "source": [
        "def get_model(params):\n",
        "  return Sequential([\n",
        "  Conv2D(filters=32, kernel_size=(3,3), activation='relu', input_shape=input_shape),\n",
        "  Conv2D(filters=32, kernel_size=(3,3), activation='relu', padding='same'),\n",
        "  MaxPool2D(),\n",
        "  Dropout(params['dropout_cnn_block_one']),\n",
        "  \n",
        "  Conv2D(filters=64, kernel_size=(3,3), activation='relu', padding='same'),\n",
        "  Conv2D(filters=64, kernel_size=(3,3), activation='relu'),\n",
        "  MaxPool2D(),\n",
        "  Dropout(params['dropout_cnn_block_two']),\n",
        "\n",
        "  Conv2D(filters=128, kernel_size=(3,3), activation='relu', padding='same'),\n",
        "  Conv2D(filters=128, kernel_size=(3,3), activation='relu'),\n",
        "  MaxPool2D(),\n",
        "  Dropout(params['dropout_cnn_block_three']),\n",
        "\n",
        "  Flatten(),\n",
        "\n",
        "  Dense(1024, activation='relu'),\n",
        "  Dropout(params['dropout_dense_block_one']),\n",
        "\n",
        "  Dense(1024, activation='relu'),\n",
        "  Dropout(params['dropout_dense_block_two']),\n",
        "\n",
        "  Dense(num_classes, activation='softmax')\n",
        "  ])"
      ],
      "execution_count": 0,
      "outputs": []
    },
    {
      "cell_type": "code",
      "metadata": {
        "id": "-Iah74ydZMK3",
        "colab_type": "code",
        "colab": {}
      },
      "source": [
        "def func_obj(params):\n",
        "  model = get_model(params)\n",
        "  model.compile(loss= 'categorical_crossentropy', optimizer='Adam', metrics=[ 'accuracy' ])\n",
        "  \n",
        "  model.fit(\n",
        "      X_train, \n",
        "      y_train,\n",
        "      batch_size=int(params.get('batch size', 128)),\n",
        "      epochs=5,\n",
        "      verbose=0\n",
        "  )\n",
        "\n",
        "  score = model.evaluate(X_test, y_test, verbose=0)\n",
        "  accuracy = score[1]\n",
        "  print(params, 'accuracy = {}'.format(accuracy))\n",
        "\n",
        "  return {'loss': -accuracy, 'status': STATUS_OK, 'model': model} \n",
        "  #the function wants to minimize. accuracy attempts to be \"1\". to combine it, the accuracy must be presented as going to \"-1\".\n"
      ],
      "execution_count": 0,
      "outputs": []
    },
    {
      "cell_type": "code",
      "metadata": {
        "id": "FG8Fg5Zgc1Ji",
        "colab_type": "code",
        "colab": {
          "base_uri": "https://localhost:8080/",
          "height": 1000
        },
        "outputId": "64d8abe8-3c03-4f31-8dd9-7be064285cee"
      },
      "source": [
        "space = {\n",
        "    'batch size' : hp.quniform('batch size', 100, 200, 10),\n",
        "    'dropout_cnn_block_one': hp.uniform('dropout_cnn_block_one', 0.3, 0.5),\n",
        "    'dropout_cnn_block_two': hp.uniform('dropout_cnn_block_two', 0.3, 0.5),\n",
        "    'dropout_cnn_block_three': hp.uniform('dropout_cnn_block_three', 0.3, 0.5),\n",
        "    'dropout_dense_block_one': hp.uniform('dropout_dense_block_one', 0.3, 0.7),\n",
        "    'dropout_dense_block_two': hp.uniform('dropout_dense_block_two', 0.3, 0.7)\n",
        "}\n",
        "\n",
        "best = fmin(\n",
        "    func_obj,\n",
        "    space,\n",
        "    tpe.suggest,\n",
        "    30,\n",
        "    Trials()\n",
        ")"
      ],
      "execution_count": 35,
      "outputs": [
        {
          "output_type": "stream",
          "text": [
            "{'batch size': 120.0, 'dropout_cnn_block_one': 0.4601859486602975, 'dropout_cnn_block_three': 0.47138276303558224, 'dropout_cnn_block_two': 0.4868418903047815, 'dropout_dense_block_one': 0.36623570062283045, 'dropout_dense_block_two': 0.40255604176628557}\n",
            "accuracy = 0.9251700639724731\n",
            "{'batch size': 200.0, 'dropout_cnn_block_one': 0.34474095229990936, 'dropout_cnn_block_three': 0.3055805801516353, 'dropout_cnn_block_two': 0.3113889668585235, 'dropout_dense_block_one': 0.5103362572793112, 'dropout_dense_block_two': 0.6637268085487114}\n",
            "accuracy = 0.9442176818847656\n",
            "{'batch size': 180.0, 'dropout_cnn_block_one': 0.446726375471451, 'dropout_cnn_block_three': 0.38515542764639044, 'dropout_cnn_block_two': 0.3971770171416992, 'dropout_dense_block_one': 0.5015997014444543, 'dropout_dense_block_two': 0.5430038289293266}\n",
            "accuracy = 0.8795918226242065\n",
            "{'batch size': 190.0, 'dropout_cnn_block_one': 0.466490658803859, 'dropout_cnn_block_three': 0.3481629524027034, 'dropout_cnn_block_two': 0.3881128983047275, 'dropout_dense_block_one': 0.6558793331981023, 'dropout_dense_block_two': 0.3180319250155329}\n",
            "accuracy = 0.8353741765022278\n",
            "{'batch size': 180.0, 'dropout_cnn_block_one': 0.3885488312026123, 'dropout_cnn_block_three': 0.31078336729374234, 'dropout_cnn_block_two': 0.3230352877184837, 'dropout_dense_block_one': 0.3548877781033574, 'dropout_dense_block_two': 0.5868274958389119}\n",
            "accuracy = 0.9442176818847656\n",
            "{'batch size': 170.0, 'dropout_cnn_block_one': 0.4473055641205669, 'dropout_cnn_block_three': 0.33883463883367293, 'dropout_cnn_block_two': 0.4739436316170801, 'dropout_dense_block_one': 0.31361499830512957, 'dropout_dense_block_two': 0.5955564849613031}\n",
            "accuracy = 0.9374149441719055\n",
            "{'batch size': 120.0, 'dropout_cnn_block_one': 0.44474745905818774, 'dropout_cnn_block_three': 0.4395278796916722, 'dropout_cnn_block_two': 0.30749865997462017, 'dropout_dense_block_one': 0.6094122763000127, 'dropout_dense_block_two': 0.4366881415269148}\n",
            "accuracy = 0.9401360750198364\n",
            "{'batch size': 130.0, 'dropout_cnn_block_one': 0.4896629005681511, 'dropout_cnn_block_three': 0.3273117510157346, 'dropout_cnn_block_two': 0.3671827130760158, 'dropout_dense_block_one': 0.47812963572049905, 'dropout_dense_block_two': 0.4082749439311162}\n",
            "accuracy = 0.9015873074531555\n",
            "{'batch size': 120.0, 'dropout_cnn_block_one': 0.3834357354343295, 'dropout_cnn_block_three': 0.3339869715955943, 'dropout_cnn_block_two': 0.43418340626748364, 'dropout_dense_block_one': 0.6010534655560453, 'dropout_dense_block_two': 0.6740908116306975}\n",
            "accuracy = 0.958276629447937\n",
            "{'batch size': 130.0, 'dropout_cnn_block_one': 0.35972372199936486, 'dropout_cnn_block_three': 0.42730499344175643, 'dropout_cnn_block_two': 0.4809674361348611, 'dropout_dense_block_one': 0.4558472674485245, 'dropout_dense_block_two': 0.4769873995469932}\n",
            "accuracy = 0.9453514814376831\n",
            "{'batch size': 120.0, 'dropout_cnn_block_one': 0.410972861758452, 'dropout_cnn_block_three': 0.3133777200317123, 'dropout_cnn_block_two': 0.3652512681494291, 'dropout_dense_block_one': 0.6869074534520572, 'dropout_dense_block_two': 0.5103111936441236}\n",
            "accuracy = 0.9555555582046509\n",
            "{'batch size': 110.0, 'dropout_cnn_block_one': 0.37113036865383375, 'dropout_cnn_block_three': 0.44118337467451446, 'dropout_cnn_block_two': 0.3933277037015225, 'dropout_dense_block_one': 0.3640037664393906, 'dropout_dense_block_two': 0.3484722493126417}\n",
            "accuracy = 0.9058957099914551\n",
            "{'batch size': 150.0, 'dropout_cnn_block_one': 0.390099400405201, 'dropout_cnn_block_three': 0.4423689313731128, 'dropout_cnn_block_two': 0.49838200537821653, 'dropout_dense_block_one': 0.4980118648909385, 'dropout_dense_block_two': 0.5765065093115535}\n",
            "accuracy = 0.882993221282959\n",
            "{'batch size': 120.0, 'dropout_cnn_block_one': 0.319187620139003, 'dropout_cnn_block_three': 0.42451877577366476, 'dropout_cnn_block_two': 0.4871749966750595, 'dropout_dense_block_one': 0.6456268418983413, 'dropout_dense_block_two': 0.4886327951499384}\n",
            "accuracy = 0.9294784665107727\n",
            "{'batch size': 150.0, 'dropout_cnn_block_one': 0.31893427597444723, 'dropout_cnn_block_three': 0.36965933538636564, 'dropout_cnn_block_two': 0.30808158178101663, 'dropout_dense_block_one': 0.5083214783343449, 'dropout_dense_block_two': 0.37126778085346257}\n",
            "accuracy = 0.9528344869613647\n",
            "{'batch size': 130.0, 'dropout_cnn_block_one': 0.3663349251764399, 'dropout_cnn_block_three': 0.33122234390304744, 'dropout_cnn_block_two': 0.3035356665562616, 'dropout_dense_block_one': 0.435618326676948, 'dropout_dense_block_two': 0.4840355067039448}\n",
            "accuracy = 0.9557822942733765\n",
            "{'batch size': 120.0, 'dropout_cnn_block_one': 0.33641059447793276, 'dropout_cnn_block_three': 0.3107991557290224, 'dropout_cnn_block_two': 0.3808149274631292, 'dropout_dense_block_one': 0.3593943143805278, 'dropout_dense_block_two': 0.5077271134174524}\n",
            "accuracy = 0.9473922848701477\n",
            "{'batch size': 130.0, 'dropout_cnn_block_one': 0.47263203463211445, 'dropout_cnn_block_three': 0.33563351418425247, 'dropout_cnn_block_two': 0.45662241087780764, 'dropout_dense_block_one': 0.45818926518985337, 'dropout_dense_block_two': 0.4868967539950776}\n",
            "accuracy = 0.8761904835700989\n",
            "{'batch size': 120.0, 'dropout_cnn_block_one': 0.42014924275507004, 'dropout_cnn_block_three': 0.3225981532876337, 'dropout_cnn_block_two': 0.4985053058903154, 'dropout_dense_block_one': 0.4939308851481298, 'dropout_dense_block_two': 0.5789193771316602}\n",
            "accuracy = 0.8367347121238708\n",
            "{'batch size': 170.0, 'dropout_cnn_block_one': 0.41638631818527416, 'dropout_cnn_block_three': 0.30158488001568534, 'dropout_cnn_block_two': 0.4683466907199836, 'dropout_dense_block_one': 0.4313716230099194, 'dropout_dense_block_two': 0.4853324232463805}\n",
            "accuracy = 0.8750566840171814\n",
            "{'batch size': 140.0, 'dropout_cnn_block_one': 0.3693803430880887, 'dropout_cnn_block_three': 0.36082195296314534, 'dropout_cnn_block_two': 0.44150788519926853, 'dropout_dense_block_one': 0.5725267761278934, 'dropout_dense_block_two': 0.6987836084150403}\n",
            "accuracy = 0.8954648375511169\n",
            "{'batch size': 100.0, 'dropout_cnn_block_one': 0.34360842464914787, 'dropout_cnn_block_three': 0.39104862950597197, 'dropout_cnn_block_two': 0.42581813046790873, 'dropout_dense_block_one': 0.5548702218879167, 'dropout_dense_block_two': 0.6230134586607737}\n",
            "accuracy = 0.9301587343215942\n",
            "{'batch size': 100.0, 'dropout_cnn_block_one': 0.39658745624704383, 'dropout_cnn_block_three': 0.36480807081608996, 'dropout_cnn_block_two': 0.41904574165637526, 'dropout_dense_block_one': 0.4221853504249419, 'dropout_dense_block_two': 0.6930865794203337}\n",
            "accuracy = 0.9503401517868042\n",
            "{'batch size': 140.0, 'dropout_cnn_block_one': 0.3049163423274364, 'dropout_cnn_block_three': 0.40615025151719303, 'dropout_cnn_block_two': 0.41875863696890614, 'dropout_dense_block_one': 0.5514981136485348, 'dropout_dense_block_two': 0.6396751376102282}\n",
            "accuracy = 0.9589568972587585\n",
            "{'batch size': 160.0, 'dropout_cnn_block_one': 0.3130891231644447, 'dropout_cnn_block_three': 0.47568424222393907, 'dropout_cnn_block_two': 0.41714724972898437, 'dropout_dense_block_one': 0.5553864074107122, 'dropout_dense_block_two': 0.6261563803458828}\n",
            "accuracy = 0.8147392272949219\n",
            "{'batch size': 140.0, 'dropout_cnn_block_one': 0.33098123674904284, 'dropout_cnn_block_three': 0.40732247494770096, 'dropout_cnn_block_two': 0.4446596069081907, 'dropout_dense_block_one': 0.6044002139028413, 'dropout_dense_block_two': 0.6696871000920364}\n",
            "accuracy = 0.8997732400894165\n",
            "{'batch size': 140.0, 'dropout_cnn_block_one': 0.3009512221492766, 'dropout_cnn_block_three': 0.4955935938550114, 'dropout_cnn_block_two': 0.3495298542454589, 'dropout_dense_block_one': 0.6850707816729269, 'dropout_dense_block_two': 0.6409274266734358}\n",
            "accuracy = 0.8380952477455139\n",
            "{'batch size': 110.0, 'dropout_cnn_block_one': 0.4311406316078954, 'dropout_cnn_block_three': 0.40608666989756276, 'dropout_cnn_block_two': 0.42839879257197794, 'dropout_dense_block_one': 0.6094068285883896, 'dropout_dense_block_two': 0.5420875484105978}\n",
            "accuracy = 0.8900226950645447\n",
            "{'batch size': 160.0, 'dropout_cnn_block_one': 0.491610688687396, 'dropout_cnn_block_three': 0.4630852270145447, 'dropout_cnn_block_two': 0.41403018810454234, 'dropout_dense_block_one': 0.5414463776478307, 'dropout_dense_block_two': 0.668203692213266}\n",
            "accuracy = 0.7705215215682983\n",
            "{'batch size': 110.0, 'dropout_cnn_block_one': 0.30132480445681814, 'dropout_cnn_block_three': 0.3775399768631136, 'dropout_cnn_block_two': 0.40647811203866524, 'dropout_dense_block_one': 0.6494851703277781, 'dropout_dense_block_two': 0.6996809410001666}\n",
            "accuracy = 0.8557823300361633\n",
            "100%|██████████| 30/30 [05:58<00:00, 11.94s/it, best loss: -0.9589568972587585]\n"
          ],
          "name": "stdout"
        }
      ]
    }
  ]
}